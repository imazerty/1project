{
  "nbformat": 4,
  "nbformat_minor": 0,
  "metadata": {
    "colab": {
      "name": "objectRecognitionProject.ipynb",
      "version": "0.3.2",
      "provenance": [],
      "collapsed_sections": [],
      "toc_visible": true,
      "include_colab_link": true
    },
    "kernelspec": {
      "name": "python3",
      "display_name": "Python 3"
    },
    "accelerator": "GPU"
  },
  "cells": [
    {
      "cell_type": "markdown",
      "metadata": {
        "id": "view-in-github",
        "colab_type": "text"
      },
      "source": [
        "<a href=\"https://colab.research.google.com/github/imazerty/1project/blob/master/objectRecognitionProject.ipynb\" target=\"_parent\"><img src=\"https://colab.research.google.com/assets/colab-badge.svg\" alt=\"Open In Colab\"/></a>"
      ]
    },
    {
      "cell_type": "code",
      "metadata": {
        "id": "OKchuy1ikPHW",
        "colab_type": "code",
        "colab": {}
      },
      "source": [
        "import sys\n",
        "import keras\n",
        "from matplotlib import pyplot as plt\n",
        "from PIL import Image\n",
        "import numpy as np\n",
        "from keras.datasets import cifar10\n",
        "from keras.utils import np_utils\n",
        "import sklearn"
      ],
      "execution_count": 0,
      "outputs": []
    },
    {
      "cell_type": "code",
      "metadata": {
        "id": "R0Mh_MB1lmus",
        "colab_type": "code",
        "colab": {
          "base_uri": "https://localhost:8080/",
          "height": 66
        },
        "outputId": "c8cb94ac-6f7d-4457-e3b0-4eb7ad3b59e2"
      },
      "source": [
        "print('Python: {}'.format(sys.version))\n",
        "print('Keras: {}'.format(keras.__version__))"
      ],
      "execution_count": 8,
      "outputs": [
        {
          "output_type": "stream",
          "text": [
            "Python: 3.6.8 (default, Jan 14 2019, 11:02:34) \n",
            "[GCC 8.0.1 20180414 (experimental) [trunk revision 259383]]\n",
            "Keras: 2.2.4\n"
          ],
          "name": "stdout"
        }
      ]
    },
    {
      "cell_type": "code",
      "metadata": {
        "id": "2BSPtS7VlO_5",
        "colab_type": "code",
        "colab": {
          "base_uri": "https://localhost:8080/",
          "height": 50
        },
        "outputId": "8b3d0956-b52a-42f9-bfcb-0d4a2fb9e8e9"
      },
      "source": [
        "#load data\n",
        "(X_train, Y_train), (X_test, Y_test) = cifar10.load_data()"
      ],
      "execution_count": 3,
      "outputs": [
        {
          "output_type": "stream",
          "text": [
            "Downloading data from https://www.cs.toronto.edu/~kriz/cifar-10-python.tar.gz\n",
            "170500096/170498071 [==============================] - 4s 0us/step\n"
          ],
          "name": "stdout"
        }
      ]
    },
    {
      "cell_type": "code",
      "metadata": {
        "id": "hVo28A76ncRp",
        "colab_type": "code",
        "colab": {
          "base_uri": "https://localhost:8080/",
          "height": 50
        },
        "outputId": "e19534c4-21c0-4bdf-9293-64c5e3e4c243"
      },
      "source": [
        "print('Training images: {} '.format(X_train.shape))\n",
        "print('Test images: {} '.format(X_test.shape))"
      ],
      "execution_count": 11,
      "outputs": [
        {
          "output_type": "stream",
          "text": [
            "Training images: (50000, 32, 32, 3) \n",
            "Test images: (10000, 32, 32, 3) \n"
          ],
          "name": "stdout"
        }
      ]
    },
    {
      "cell_type": "code",
      "metadata": {
        "id": "kJ7IhilznnYB",
        "colab_type": "code",
        "colab": {
          "base_uri": "https://localhost:8080/",
          "height": 33
        },
        "outputId": "82f2e92d-c274-4c27-adec-cc6f5e58da94"
      },
      "source": [
        "print('first image : {} '.format(X_train[0].shape))"
      ],
      "execution_count": 12,
      "outputs": [
        {
          "output_type": "stream",
          "text": [
            "first image : (32, 32, 3) \n"
          ],
          "name": "stdout"
        }
      ]
    },
    {
      "cell_type": "code",
      "metadata": {
        "id": "VLm2t4vhn4b-",
        "colab_type": "code",
        "colab": {
          "base_uri": "https://localhost:8080/",
          "height": 270
        },
        "outputId": "52cd6bee-16d6-4301-8ff6-9032f82e3494"
      },
      "source": [
        "# grid of 3*3 images\n",
        "for i in range(0, 9):\n",
        "  plt.subplot(330 + 1 + i)\n",
        "  img = X_train[i]\n",
        "  plt.imshow(img)\n",
        "\n",
        "plt.show()"
      ],
      "execution_count": 5,
      "outputs": [
        {
          "output_type": "display_data",
          "data": {
            "image/png": "[encoded data removed]",
            "text/plain": [
              "<Figure size 432x288 with 9 Axes>"
            ]
          },
          "metadata": {
            "tags": []
          }
        }
      ]
    },
    {
      "cell_type": "code",
      "metadata": {
        "id": "HmSGSt4UqJFZ",
        "colab_type": "code",
        "colab": {}
      },
      "source": [
        "#preprocessing dataset\n",
        "\n",
        "#fix seed for reproducibility\n",
        "seed = 5\n",
        "np.random.seed(seed)\n",
        "#load data\n",
        "(X_train, y_train), (X_test, y_test) = cifar10.load_data()\n"
      ],
      "execution_count": 0,
      "outputs": []
    },
    {
      "cell_type": "code",
      "metadata": {
        "id": "bAS9rQSeqrCo",
        "colab_type": "code",
        "colab": {}
      },
      "source": [
        "#normalize dataset from 0-255 to 0.0-1.0\n",
        "X_train = X_train.astype('float32')\n",
        "X_test = X_test.astype('float32')\n",
        "X_train /=  255.0\n",
        "X_test /= 255.0"
      ],
      "execution_count": 0,
      "outputs": []
    },
    {
      "cell_type": "code",
      "metadata": {
        "id": "qqtjZzEAs-0_",
        "colab_type": "code",
        "colab": {
          "base_uri": "https://localhost:8080/",
          "height": 66
        },
        "outputId": "83b942ea-dfe0-45db-bc50-59c6a08e199c"
      },
      "source": [
        "#one hot encoding; example: [6] = [0,0,0,0,0,0,1,0,0,0]\n",
        "Y_train = np_utils.to_categorical(y_train)\n",
        "Y_test = np_utils.to_categorical(y_test)\n",
        "num_classes = Y_test.shape[1]\n",
        "print('num_classes : {}'.format(num_classes))\n",
        "print(Y_train.shape)\n",
        "print(Y_train[0]) #frog : 6"
      ],
      "execution_count": 17,
      "outputs": [
        {
          "output_type": "stream",
          "text": [
            "num_classes : 10\n",
            "(50000, 10)\n",
            "[0. 0. 0. 0. 0. 0. 1. 0. 0. 0.]\n"
          ],
          "name": "stdout"
        }
      ]
    },
    {
      "cell_type": "markdown",
      "metadata": {
        "id": "CAPYsCl2zH3_",
        "colab_type": "text"
      },
      "source": [
        "##Table: The All-CNN-C network used for classification on CIFAR-10 \n",
        "###Model-C\n",
        "\n",
        "Input 32 × 32 RGB image\n",
        "*  3 × 3 conv. 96 ReLU\n",
        "*  3 × 3 conv. 96 ReLU\n",
        "*  3 × 3 max-pooling stride 2\n",
        "*  3 × 3 conv. 192 ReLU\n",
        "*  3 × 3 conv. 192 ReLU\n",
        "*  3 × 3 max-pooling stride 2\n",
        "*  3 × 3 conv. 192 ReLU\n",
        "*  1 × 1 conv. 192 ReLU\n",
        "*  1 × 1 conv. 10 ReLU\n",
        "*  global averaging over 6 × 6 spatial dimensions\n",
        "*  10 or 100-way softmax\n"
      ]
    },
    {
      "cell_type": "code",
      "metadata": {
        "id": "VZfcdSK5uZIS",
        "colab_type": "code",
        "colab": {}
      },
      "source": [
        "#importing necessary layers\n",
        "from keras.models import Sequential\n",
        "from keras.layers import Dropout,  GlobalAveragePooling2D, Activation\n",
        "from keras.layers.convolutional import Conv2D\n",
        "from keras.optimizers import SGD"
      ],
      "execution_count": 0,
      "outputs": []
    },
    {
      "cell_type": "code",
      "metadata": {
        "id": "Zp0CnH6X4NyR",
        "colab_type": "code",
        "colab": {}
      },
      "source": [
        "#define the model function\n",
        "def allcnn(weights = None):\n",
        "  model = Sequential()\n",
        "  model.add(Conv2D(96, (3, 3), padding = 'same', input_shape = (32, 32, 3) ))\n",
        "  model.add(Activation('relu'))\n",
        "  model.add(Conv2D(96, (3,3), padding = 'same'))\n",
        "  model.add(Activation('relu'))\n",
        "  \n",
        "  model.add(Conv2D(96, (3, 3), padding = 'same', strides = (2,2)))\n",
        "  model.add(Dropout(0.5))\n",
        "  \n",
        "  model.add(Conv2D(192, (3, 3), padding = 'same' ))\n",
        "  model.add(Activation('relu'))\n",
        "  model.add(Conv2D(192, (3,3), padding = 'same'))\n",
        "  model.add(Activation('relu'))\n",
        "  \n",
        "  model.add(Conv2D(192, (3, 3), padding = 'same', strides = (2,2)))\n",
        "  model.add(Dropout(0.5))\n",
        "  \n",
        "  model.add(Conv2D(192, (3, 3), padding = 'same' ))\n",
        "  model.add(Activation('relu'))\n",
        "  model.add(Conv2D(192, (1,1), padding = 'valid'))\n",
        "  model.add(Activation('relu'))\n",
        "  model.add(Conv2D(10, (1,1), padding = 'valid'))\n",
        "  model.add(Activation('relu'))\n",
        "  \n",
        "  #add Global Average Pooling with sftmax\n",
        "  model.add(GlobalAveragePooling2D())\n",
        "  model.add(Activation('softmax'))\n",
        "  \n",
        "  #load weights\n",
        "  if weights:\n",
        "    model.load_weights(weights)\n",
        "    \n",
        "  return model"
      ],
      "execution_count": 0,
      "outputs": []
    },
    {
      "cell_type": "code",
      "metadata": {
        "id": "pfB48GOz9pv2",
        "colab_type": "code",
        "colab": {
          "base_uri": "https://localhost:8080/",
          "height": 248
        },
        "outputId": "6faea57b-3c70-4ac8-d339-547f122e7d54"
      },
      "source": [
        "#defie hyperparameters\n",
        "learning_rate = 0.01\n",
        "weight_decay = 1e-6\n",
        "momentum = 0.9\n",
        "\n",
        "#load model\n",
        "model = allcnn()\n",
        "#optiizer and a compiler\n",
        "sgd = SGD(lr = learning_rate, decay = weight_decay, momentum = momentum, nesterov = True)\n",
        "model.compile(loss = 'categorical_crossentropy', optimizer = sgd, metrics = ['accuracy'])\n"
      ],
      "execution_count": 29,
      "outputs": [
        {
          "output_type": "stream",
          "text": [
            "W0726 01:58:27.185061 140596766783360 deprecation_wrapper.py:119] From /usr/local/lib/python3.6/dist-packages/keras/backend/tensorflow_backend.py:517: The name tf.placeholder is deprecated. Please use tf.compat.v1.placeholder instead.\n",
            "\n",
            "W0726 01:58:27.198089 140596766783360 deprecation_wrapper.py:119] From /usr/local/lib/python3.6/dist-packages/keras/backend/tensorflow_backend.py:4138: The name tf.random_uniform is deprecated. Please use tf.random.uniform instead.\n",
            "\n",
            "W0726 01:58:27.257219 140596766783360 deprecation_wrapper.py:119] From /usr/local/lib/python3.6/dist-packages/keras/backend/tensorflow_backend.py:133: The name tf.placeholder_with_default is deprecated. Please use tf.compat.v1.placeholder_with_default instead.\n",
            "\n",
            "W0726 01:58:27.266047 140596766783360 deprecation.py:506] From /usr/local/lib/python3.6/dist-packages/keras/backend/tensorflow_backend.py:3445: calling dropout (from tensorflow.python.ops.nn_ops) with keep_prob is deprecated and will be removed in a future version.\n",
            "Instructions for updating:\n",
            "Please use `rate` instead of `keep_prob`. Rate should be set to `rate = 1 - keep_prob`.\n",
            "W0726 01:58:27.387983 140596766783360 deprecation_wrapper.py:119] From /usr/local/lib/python3.6/dist-packages/keras/optimizers.py:790: The name tf.train.Optimizer is deprecated. Please use tf.compat.v1.train.Optimizer instead.\n",
            "\n",
            "W0726 01:58:27.395913 140596766783360 deprecation_wrapper.py:119] From /usr/local/lib/python3.6/dist-packages/keras/backend/tensorflow_backend.py:3295: The name tf.log is deprecated. Please use tf.math.log instead.\n",
            "\n"
          ],
          "name": "stderr"
        }
      ]
    },
    {
      "cell_type": "code",
      "metadata": {
        "id": "Ld7gYxJgAGH-",
        "colab_type": "code",
        "colab": {
          "base_uri": "https://localhost:8080/",
          "height": 797
        },
        "outputId": "5598e450-4315-4a77-995a-7fd0a48b113f"
      },
      "source": [
        "#print summary\n",
        "print(model.summary())"
      ],
      "execution_count": 31,
      "outputs": [
        {
          "output_type": "stream",
          "text": [
            "_________________________________________________________________\n",
            "Layer (type)                 Output Shape              Param #   \n",
            "=================================================================\n",
            "conv2d_1 (Conv2D)            (None, 32, 32, 96)        2688      \n",
            "_________________________________________________________________\n",
            "activation_1 (Activation)    (None, 32, 32, 96)        0         \n",
            "_________________________________________________________________\n",
            "conv2d_2 (Conv2D)            (None, 32, 32, 96)        83040     \n",
            "_________________________________________________________________\n",
            "activation_2 (Activation)    (None, 32, 32, 96)        0         \n",
            "_________________________________________________________________\n",
            "conv2d_3 (Conv2D)            (None, 16, 16, 96)        83040     \n",
            "_________________________________________________________________\n",
            "dropout_1 (Dropout)          (None, 16, 16, 96)        0         \n",
            "_________________________________________________________________\n",
            "conv2d_4 (Conv2D)            (None, 16, 16, 192)       166080    \n",
            "_________________________________________________________________\n",
            "activation_3 (Activation)    (None, 16, 16, 192)       0         \n",
            "_________________________________________________________________\n",
            "conv2d_5 (Conv2D)            (None, 16, 16, 192)       331968    \n",
            "_________________________________________________________________\n",
            "activation_4 (Activation)    (None, 16, 16, 192)       0         \n",
            "_________________________________________________________________\n",
            "conv2d_6 (Conv2D)            (None, 8, 8, 192)         331968    \n",
            "_________________________________________________________________\n",
            "dropout_2 (Dropout)          (None, 8, 8, 192)         0         \n",
            "_________________________________________________________________\n",
            "conv2d_7 (Conv2D)            (None, 8, 8, 192)         331968    \n",
            "_________________________________________________________________\n",
            "activation_5 (Activation)    (None, 8, 8, 192)         0         \n",
            "_________________________________________________________________\n",
            "conv2d_8 (Conv2D)            (None, 8, 8, 192)         37056     \n",
            "_________________________________________________________________\n",
            "activation_6 (Activation)    (None, 8, 8, 192)         0         \n",
            "_________________________________________________________________\n",
            "conv2d_9 (Conv2D)            (None, 8, 8, 10)          1930      \n",
            "_________________________________________________________________\n",
            "activation_7 (Activation)    (None, 8, 8, 10)          0         \n",
            "_________________________________________________________________\n",
            "global_average_pooling2d_1 ( (None, 10)                0         \n",
            "_________________________________________________________________\n",
            "activation_8 (Activation)    (None, 10)                0         \n",
            "=================================================================\n",
            "Total params: 1,369,738\n",
            "Trainable params: 1,369,738\n",
            "Non-trainable params: 0\n",
            "_________________________________________________________________\n",
            "None\n"
          ],
          "name": "stdout"
        }
      ]
    },
    {
      "cell_type": "code",
      "metadata": {
        "id": "AHuVoNmmBYrO",
        "colab_type": "code",
        "colab": {
          "base_uri": "https://localhost:8080/",
          "height": 1000
        },
        "outputId": "8588f662-e2e5-40a6-d84c-6bf0ef407294"
      },
      "source": [
        "#adding additional parameters\n",
        "epochs= 350\n",
        "batch_size = 32\n",
        "#fit the model\n",
        "model.fit(X_train, Y_train, validation_data = (X_test, Y_test), epochs = epochs, batch_size = batch_size, verbose = 1)"
      ],
      "execution_count": 32,
      "outputs": [
        {
          "output_type": "stream",
          "text": [
            "W0726 02:06:39.720295 140596766783360 deprecation.py:323] From /usr/local/lib/python3.6/dist-packages/tensorflow/python/ops/math_grad.py:1250: add_dispatch_support.<locals>.wrapper (from tensorflow.python.ops.array_ops) is deprecated and will be removed in a future version.\n",
            "Instructions for updating:\n",
            "Use tf.where in 2.0, which has the same broadcast rule as np.where\n"
          ],
          "name": "stderr"
        },
        {
          "output_type": "stream",
          "text": [
            "Train on 50000 samples, validate on 10000 samples\n",
            "Epoch 1/350\n",
            "50000/50000 [==============================] - 33s 650us/step - loss: 2.0300 - acc: 0.2320 - val_loss: 1.7616 - val_acc: 0.3207\n",
            "Epoch 2/350\n",
            "50000/50000 [==============================] - 26s 526us/step - loss: 1.5469 - acc: 0.4232 - val_loss: 1.3408 - val_acc: 0.5085\n",
            "Epoch 3/350\n",
            "50000/50000 [==============================] - 27s 540us/step - loss: 1.2582 - acc: 0.5436 - val_loss: 1.0685 - val_acc: 0.6187\n",
            "Epoch 4/350\n",
            "50000/50000 [==============================] - 27s 547us/step - loss: 1.0630 - acc: 0.6213 - val_loss: 0.9622 - val_acc: 0.6542\n",
            "Epoch 5/350\n",
            "50000/50000 [==============================] - 27s 537us/step - loss: 0.9219 - acc: 0.6731 - val_loss: 0.8374 - val_acc: 0.7030\n",
            "Epoch 6/350\n",
            "50000/50000 [==============================] - 27s 536us/step - loss: 0.8152 - acc: 0.7151 - val_loss: 0.8446 - val_acc: 0.6985\n",
            "Epoch 7/350\n",
            "50000/50000 [==============================] - 27s 539us/step - loss: 0.7307 - acc: 0.7455 - val_loss: 0.8021 - val_acc: 0.7375\n",
            "Epoch 8/350\n",
            "50000/50000 [==============================] - 27s 544us/step - loss: 0.6625 - acc: 0.7690 - val_loss: 0.6649 - val_acc: 0.7763\n",
            "Epoch 9/350\n",
            "50000/50000 [==============================] - 27s 539us/step - loss: 0.6087 - acc: 0.7887 - val_loss: 0.6688 - val_acc: 0.7716\n",
            "Epoch 10/350\n",
            "50000/50000 [==============================] - 27s 541us/step - loss: 0.5556 - acc: 0.8054 - val_loss: 0.6447 - val_acc: 0.7927\n",
            "Epoch 11/350\n",
            "50000/50000 [==============================] - 27s 539us/step - loss: 0.5201 - acc: 0.8183 - val_loss: 0.5946 - val_acc: 0.8050\n",
            "Epoch 12/350\n",
            "50000/50000 [==============================] - 27s 538us/step - loss: 0.4814 - acc: 0.8325 - val_loss: 0.6101 - val_acc: 0.8039\n",
            "Epoch 13/350\n",
            "50000/50000 [==============================] - 27s 537us/step - loss: 0.4535 - acc: 0.8414 - val_loss: 0.5901 - val_acc: 0.7995\n",
            "Epoch 14/350\n",
            "50000/50000 [==============================] - 27s 539us/step - loss: 0.4245 - acc: 0.8507 - val_loss: 0.5759 - val_acc: 0.8099\n",
            "Epoch 15/350\n",
            "50000/50000 [==============================] - 27s 539us/step - loss: 0.3966 - acc: 0.8599 - val_loss: 0.5752 - val_acc: 0.8143\n",
            "Epoch 16/350\n",
            "50000/50000 [==============================] - 27s 532us/step - loss: 0.3821 - acc: 0.8654 - val_loss: 0.6558 - val_acc: 0.7879\n",
            "Epoch 17/350\n",
            "50000/50000 [==============================] - 27s 532us/step - loss: 0.3596 - acc: 0.8727 - val_loss: 0.5895 - val_acc: 0.8186\n",
            "Epoch 18/350\n",
            "50000/50000 [==============================] - 27s 534us/step - loss: 0.3446 - acc: 0.8779 - val_loss: 0.6123 - val_acc: 0.8183\n",
            "Epoch 19/350\n",
            "50000/50000 [==============================] - 27s 534us/step - loss: 0.3279 - acc: 0.8839 - val_loss: 0.6572 - val_acc: 0.8184\n",
            "Epoch 20/350\n",
            "50000/50000 [==============================] - 27s 533us/step - loss: 0.3155 - acc: 0.8900 - val_loss: 0.6406 - val_acc: 0.8153\n",
            "Epoch 21/350\n",
            "50000/50000 [==============================] - 27s 534us/step - loss: 0.3003 - acc: 0.8942 - val_loss: 0.6578 - val_acc: 0.8213\n",
            "Epoch 22/350\n",
            "50000/50000 [==============================] - 27s 533us/step - loss: 0.2976 - acc: 0.8949 - val_loss: 0.6627 - val_acc: 0.8148\n",
            "Epoch 23/350\n",
            "50000/50000 [==============================] - 27s 531us/step - loss: 0.2842 - acc: 0.8997 - val_loss: 0.6771 - val_acc: 0.8239\n",
            "Epoch 24/350\n",
            "50000/50000 [==============================] - 27s 531us/step - loss: 0.2767 - acc: 0.9004 - val_loss: 0.6486 - val_acc: 0.8152\n",
            "Epoch 25/350\n",
            "50000/50000 [==============================] - 27s 532us/step - loss: 0.2751 - acc: 0.9028 - val_loss: 0.6673 - val_acc: 0.8268\n",
            "Epoch 26/350\n",
            "50000/50000 [==============================] - 27s 531us/step - loss: 0.2652 - acc: 0.9066 - val_loss: 0.7014 - val_acc: 0.8202\n",
            "Epoch 27/350\n",
            "50000/50000 [==============================] - 27s 535us/step - loss: 0.2587 - acc: 0.9078 - val_loss: 0.7225 - val_acc: 0.8220\n",
            "Epoch 28/350\n",
            "50000/50000 [==============================] - 27s 531us/step - loss: 0.2461 - acc: 0.9131 - val_loss: 0.6972 - val_acc: 0.8235\n",
            "Epoch 29/350\n",
            "50000/50000 [==============================] - 26s 529us/step - loss: 0.2531 - acc: 0.9101 - val_loss: 0.6600 - val_acc: 0.8323\n",
            "Epoch 30/350\n",
            "50000/50000 [==============================] - 26s 528us/step - loss: 0.2433 - acc: 0.9151 - val_loss: 0.6511 - val_acc: 0.8265\n",
            "Epoch 31/350\n",
            "50000/50000 [==============================] - 26s 530us/step - loss: 0.2439 - acc: 0.9138 - val_loss: 0.7229 - val_acc: 0.8253\n",
            "Epoch 32/350\n",
            "50000/50000 [==============================] - 26s 528us/step - loss: 0.2332 - acc: 0.9180 - val_loss: 0.7807 - val_acc: 0.8123\n",
            "Epoch 33/350\n",
            "50000/50000 [==============================] - 26s 529us/step - loss: 0.2318 - acc: 0.9161 - val_loss: 0.7592 - val_acc: 0.8258\n",
            "Epoch 34/350\n",
            "50000/50000 [==============================] - 26s 529us/step - loss: 0.2233 - acc: 0.9219 - val_loss: 0.7006 - val_acc: 0.8225\n",
            "Epoch 35/350\n",
            "50000/50000 [==============================] - 26s 529us/step - loss: 0.2216 - acc: 0.9218 - val_loss: 0.7959 - val_acc: 0.8180\n",
            "Epoch 36/350\n",
            "50000/50000 [==============================] - 26s 530us/step - loss: 0.2246 - acc: 0.9219 - val_loss: 0.7250 - val_acc: 0.8227\n",
            "Epoch 37/350\n",
            "50000/50000 [==============================] - 27s 534us/step - loss: 0.2218 - acc: 0.9225 - val_loss: 0.7071 - val_acc: 0.8301\n",
            "Epoch 38/350\n",
            "50000/50000 [==============================] - 27s 537us/step - loss: 0.2173 - acc: 0.9231 - val_loss: 0.8022 - val_acc: 0.8246\n",
            "Epoch 39/350\n",
            "50000/50000 [==============================] - 27s 536us/step - loss: 0.2194 - acc: 0.9238 - val_loss: 0.7821 - val_acc: 0.8161\n",
            "Epoch 40/350\n",
            "50000/50000 [==============================] - 27s 534us/step - loss: 0.2130 - acc: 0.9260 - val_loss: 0.8263 - val_acc: 0.8135\n",
            "Epoch 41/350\n",
            "50000/50000 [==============================] - 27s 533us/step - loss: 0.2136 - acc: 0.9266 - val_loss: 0.7922 - val_acc: 0.8210\n",
            "Epoch 42/350\n",
            "50000/50000 [==============================] - 27s 532us/step - loss: 0.2078 - acc: 0.9283 - val_loss: 0.7464 - val_acc: 0.8347\n",
            "Epoch 43/350\n",
            "50000/50000 [==============================] - 27s 532us/step - loss: 0.2014 - acc: 0.9292 - val_loss: 0.7567 - val_acc: 0.8207\n",
            "Epoch 44/350\n",
            "50000/50000 [==============================] - 27s 533us/step - loss: 0.2139 - acc: 0.9251 - val_loss: 0.8038 - val_acc: 0.8340\n",
            "Epoch 45/350\n",
            "50000/50000 [==============================] - 27s 533us/step - loss: 0.2048 - acc: 0.9290 - val_loss: 0.7595 - val_acc: 0.8391\n",
            "Epoch 46/350\n",
            "50000/50000 [==============================] - 27s 532us/step - loss: 0.1955 - acc: 0.9331 - val_loss: 0.8463 - val_acc: 0.8179\n",
            "Epoch 47/350\n",
            "50000/50000 [==============================] - 27s 534us/step - loss: 0.2038 - acc: 0.9298 - val_loss: 0.7608 - val_acc: 0.8291\n",
            "Epoch 48/350\n",
            "50000/50000 [==============================] - 27s 532us/step - loss: 0.2034 - acc: 0.9296 - val_loss: 0.8833 - val_acc: 0.8323\n",
            "Epoch 49/350\n",
            "50000/50000 [==============================] - 27s 533us/step - loss: 0.2057 - acc: 0.9292 - val_loss: 0.7303 - val_acc: 0.8321\n",
            "Epoch 50/350\n",
            "50000/50000 [==============================] - 27s 539us/step - loss: 0.1938 - acc: 0.9336 - val_loss: 0.7937 - val_acc: 0.8305\n",
            "Epoch 51/350\n",
            "50000/50000 [==============================] - 27s 532us/step - loss: 0.1954 - acc: 0.9330 - val_loss: 0.8974 - val_acc: 0.8200\n",
            "Epoch 52/350\n",
            "50000/50000 [==============================] - 27s 536us/step - loss: 0.1983 - acc: 0.9331 - val_loss: 0.8214 - val_acc: 0.8304\n",
            "Epoch 53/350\n",
            "50000/50000 [==============================] - 27s 532us/step - loss: 0.1876 - acc: 0.9361 - val_loss: 0.8103 - val_acc: 0.8203\n",
            "Epoch 54/350\n",
            "50000/50000 [==============================] - 27s 536us/step - loss: 0.1886 - acc: 0.9347 - val_loss: 0.9060 - val_acc: 0.8319\n",
            "Epoch 55/350\n",
            "50000/50000 [==============================] - 27s 536us/step - loss: 0.1948 - acc: 0.9330 - val_loss: 0.9771 - val_acc: 0.8206\n",
            "Epoch 56/350\n",
            "50000/50000 [==============================] - 27s 532us/step - loss: 0.1913 - acc: 0.9338 - val_loss: 0.8695 - val_acc: 0.8230\n",
            "Epoch 57/350\n",
            "50000/50000 [==============================] - 27s 533us/step - loss: 0.1910 - acc: 0.9347 - val_loss: 0.8586 - val_acc: 0.8193\n",
            "Epoch 58/350\n",
            "50000/50000 [==============================] - 27s 535us/step - loss: 0.1923 - acc: 0.9348 - val_loss: 0.8606 - val_acc: 0.8245\n",
            "Epoch 59/350\n",
            "50000/50000 [==============================] - 27s 536us/step - loss: 0.1994 - acc: 0.9309 - val_loss: 0.8584 - val_acc: 0.8260\n",
            "Epoch 60/350\n",
            "45888/50000 [==========================>...] - ETA: 2s - loss: 0.1899 - acc: 0.9360"
          ],
          "name": "stdout"
        },
        {
          "output_type": "error",
          "ename": "KeyboardInterrupt",
          "evalue": "ignored",
          "traceback": [
            "\u001b[0;31m---------------------------------------------------------------------------\u001b[0m",
            "\u001b[0;31mKeyboardInterrupt\u001b[0m                         Traceback (most recent call last)",
            "\u001b[0;32m<ipython-input-32-f4a2584c29a1>\u001b[0m in \u001b[0;36m<module>\u001b[0;34m()\u001b[0m\n\u001b[1;32m      2\u001b[0m \u001b[0mbatch_size\u001b[0m \u001b[0;34m=\u001b[0m \u001b[0;36m32\u001b[0m\u001b[0;34m\u001b[0m\u001b[0;34m\u001b[0m\u001b[0m\n\u001b[1;32m      3\u001b[0m \u001b[0;31m#fit the model\u001b[0m\u001b[0;34m\u001b[0m\u001b[0;34m\u001b[0m\u001b[0;34m\u001b[0m\u001b[0m\n\u001b[0;32m----> 4\u001b[0;31m \u001b[0mmodel\u001b[0m\u001b[0;34m.\u001b[0m\u001b[0mfit\u001b[0m\u001b[0;34m(\u001b[0m\u001b[0mX_train\u001b[0m\u001b[0;34m,\u001b[0m \u001b[0mY_train\u001b[0m\u001b[0;34m,\u001b[0m \u001b[0mvalidation_data\u001b[0m \u001b[0;34m=\u001b[0m \u001b[0;34m(\u001b[0m\u001b[0mX_test\u001b[0m\u001b[0;34m,\u001b[0m \u001b[0mY_test\u001b[0m\u001b[0;34m)\u001b[0m\u001b[0;34m,\u001b[0m \u001b[0mepochs\u001b[0m \u001b[0;34m=\u001b[0m \u001b[0mepochs\u001b[0m\u001b[0;34m,\u001b[0m \u001b[0mbatch_size\u001b[0m \u001b[0;34m=\u001b[0m \u001b[0mbatch_size\u001b[0m\u001b[0;34m,\u001b[0m \u001b[0mverbose\u001b[0m \u001b[0;34m=\u001b[0m \u001b[0;36m1\u001b[0m\u001b[0;34m)\u001b[0m\u001b[0;34m\u001b[0m\u001b[0;34m\u001b[0m\u001b[0m\n\u001b[0m",
            "\u001b[0;32m/usr/local/lib/python3.6/dist-packages/keras/engine/training.py\u001b[0m in \u001b[0;36mfit\u001b[0;34m(self, x, y, batch_size, epochs, verbose, callbacks, validation_split, validation_data, shuffle, class_weight, sample_weight, initial_epoch, steps_per_epoch, validation_steps, **kwargs)\u001b[0m\n\u001b[1;32m   1037\u001b[0m                                         \u001b[0minitial_epoch\u001b[0m\u001b[0;34m=\u001b[0m\u001b[0minitial_epoch\u001b[0m\u001b[0;34m,\u001b[0m\u001b[0;34m\u001b[0m\u001b[0;34m\u001b[0m\u001b[0m\n\u001b[1;32m   1038\u001b[0m                                         \u001b[0msteps_per_epoch\u001b[0m\u001b[0;34m=\u001b[0m\u001b[0msteps_per_epoch\u001b[0m\u001b[0;34m,\u001b[0m\u001b[0;34m\u001b[0m\u001b[0;34m\u001b[0m\u001b[0m\n\u001b[0;32m-> 1039\u001b[0;31m                                         validation_steps=validation_steps)\n\u001b[0m\u001b[1;32m   1040\u001b[0m \u001b[0;34m\u001b[0m\u001b[0m\n\u001b[1;32m   1041\u001b[0m     def evaluate(self, x=None, y=None,\n",
            "\u001b[0;32m/usr/local/lib/python3.6/dist-packages/keras/engine/training_arrays.py\u001b[0m in \u001b[0;36mfit_loop\u001b[0;34m(model, f, ins, out_labels, batch_size, epochs, verbose, callbacks, val_f, val_ins, shuffle, callback_metrics, initial_epoch, steps_per_epoch, validation_steps)\u001b[0m\n\u001b[1;32m    197\u001b[0m                     \u001b[0mins_batch\u001b[0m\u001b[0;34m[\u001b[0m\u001b[0mi\u001b[0m\u001b[0;34m]\u001b[0m \u001b[0;34m=\u001b[0m \u001b[0mins_batch\u001b[0m\u001b[0;34m[\u001b[0m\u001b[0mi\u001b[0m\u001b[0;34m]\u001b[0m\u001b[0;34m.\u001b[0m\u001b[0mtoarray\u001b[0m\u001b[0;34m(\u001b[0m\u001b[0;34m)\u001b[0m\u001b[0;34m\u001b[0m\u001b[0;34m\u001b[0m\u001b[0m\n\u001b[1;32m    198\u001b[0m \u001b[0;34m\u001b[0m\u001b[0m\n\u001b[0;32m--> 199\u001b[0;31m                 \u001b[0mouts\u001b[0m \u001b[0;34m=\u001b[0m \u001b[0mf\u001b[0m\u001b[0;34m(\u001b[0m\u001b[0mins_batch\u001b[0m\u001b[0;34m)\u001b[0m\u001b[0;34m\u001b[0m\u001b[0;34m\u001b[0m\u001b[0m\n\u001b[0m\u001b[1;32m    200\u001b[0m                 \u001b[0mouts\u001b[0m \u001b[0;34m=\u001b[0m \u001b[0mto_list\u001b[0m\u001b[0;34m(\u001b[0m\u001b[0mouts\u001b[0m\u001b[0;34m)\u001b[0m\u001b[0;34m\u001b[0m\u001b[0;34m\u001b[0m\u001b[0m\n\u001b[1;32m    201\u001b[0m                 \u001b[0;32mfor\u001b[0m \u001b[0ml\u001b[0m\u001b[0;34m,\u001b[0m \u001b[0mo\u001b[0m \u001b[0;32min\u001b[0m \u001b[0mzip\u001b[0m\u001b[0;34m(\u001b[0m\u001b[0mout_labels\u001b[0m\u001b[0;34m,\u001b[0m \u001b[0mouts\u001b[0m\u001b[0;34m)\u001b[0m\u001b[0;34m:\u001b[0m\u001b[0;34m\u001b[0m\u001b[0;34m\u001b[0m\u001b[0m\n",
            "\u001b[0;32m/usr/local/lib/python3.6/dist-packages/keras/backend/tensorflow_backend.py\u001b[0m in \u001b[0;36m__call__\u001b[0;34m(self, inputs)\u001b[0m\n\u001b[1;32m   2713\u001b[0m                 \u001b[0;32mreturn\u001b[0m \u001b[0mself\u001b[0m\u001b[0;34m.\u001b[0m\u001b[0m_legacy_call\u001b[0m\u001b[0;34m(\u001b[0m\u001b[0minputs\u001b[0m\u001b[0;34m)\u001b[0m\u001b[0;34m\u001b[0m\u001b[0;34m\u001b[0m\u001b[0m\n\u001b[1;32m   2714\u001b[0m \u001b[0;34m\u001b[0m\u001b[0m\n\u001b[0;32m-> 2715\u001b[0;31m             \u001b[0;32mreturn\u001b[0m \u001b[0mself\u001b[0m\u001b[0;34m.\u001b[0m\u001b[0m_call\u001b[0m\u001b[0;34m(\u001b[0m\u001b[0minputs\u001b[0m\u001b[0;34m)\u001b[0m\u001b[0;34m\u001b[0m\u001b[0;34m\u001b[0m\u001b[0m\n\u001b[0m\u001b[1;32m   2716\u001b[0m         \u001b[0;32melse\u001b[0m\u001b[0;34m:\u001b[0m\u001b[0;34m\u001b[0m\u001b[0;34m\u001b[0m\u001b[0m\n\u001b[1;32m   2717\u001b[0m             \u001b[0;32mif\u001b[0m \u001b[0mpy_any\u001b[0m\u001b[0;34m(\u001b[0m\u001b[0mis_tensor\u001b[0m\u001b[0;34m(\u001b[0m\u001b[0mx\u001b[0m\u001b[0;34m)\u001b[0m \u001b[0;32mfor\u001b[0m \u001b[0mx\u001b[0m \u001b[0;32min\u001b[0m \u001b[0minputs\u001b[0m\u001b[0;34m)\u001b[0m\u001b[0;34m:\u001b[0m\u001b[0;34m\u001b[0m\u001b[0;34m\u001b[0m\u001b[0m\n",
            "\u001b[0;32m/usr/local/lib/python3.6/dist-packages/keras/backend/tensorflow_backend.py\u001b[0m in \u001b[0;36m_call\u001b[0;34m(self, inputs)\u001b[0m\n\u001b[1;32m   2673\u001b[0m             \u001b[0mfetched\u001b[0m \u001b[0;34m=\u001b[0m \u001b[0mself\u001b[0m\u001b[0;34m.\u001b[0m\u001b[0m_callable_fn\u001b[0m\u001b[0;34m(\u001b[0m\u001b[0;34m*\u001b[0m\u001b[0marray_vals\u001b[0m\u001b[0;34m,\u001b[0m \u001b[0mrun_metadata\u001b[0m\u001b[0;34m=\u001b[0m\u001b[0mself\u001b[0m\u001b[0;34m.\u001b[0m\u001b[0mrun_metadata\u001b[0m\u001b[0;34m)\u001b[0m\u001b[0;34m\u001b[0m\u001b[0;34m\u001b[0m\u001b[0m\n\u001b[1;32m   2674\u001b[0m         \u001b[0;32melse\u001b[0m\u001b[0;34m:\u001b[0m\u001b[0;34m\u001b[0m\u001b[0;34m\u001b[0m\u001b[0m\n\u001b[0;32m-> 2675\u001b[0;31m             \u001b[0mfetched\u001b[0m \u001b[0;34m=\u001b[0m \u001b[0mself\u001b[0m\u001b[0;34m.\u001b[0m\u001b[0m_callable_fn\u001b[0m\u001b[0;34m(\u001b[0m\u001b[0;34m*\u001b[0m\u001b[0marray_vals\u001b[0m\u001b[0;34m)\u001b[0m\u001b[0;34m\u001b[0m\u001b[0;34m\u001b[0m\u001b[0m\n\u001b[0m\u001b[1;32m   2676\u001b[0m         \u001b[0;32mreturn\u001b[0m \u001b[0mfetched\u001b[0m\u001b[0;34m[\u001b[0m\u001b[0;34m:\u001b[0m\u001b[0mlen\u001b[0m\u001b[0;34m(\u001b[0m\u001b[0mself\u001b[0m\u001b[0;34m.\u001b[0m\u001b[0moutputs\u001b[0m\u001b[0;34m)\u001b[0m\u001b[0;34m]\u001b[0m\u001b[0;34m\u001b[0m\u001b[0;34m\u001b[0m\u001b[0m\n\u001b[1;32m   2677\u001b[0m \u001b[0;34m\u001b[0m\u001b[0m\n",
            "\u001b[0;32m/usr/local/lib/python3.6/dist-packages/tensorflow/python/client/session.py\u001b[0m in \u001b[0;36m__call__\u001b[0;34m(self, *args, **kwargs)\u001b[0m\n\u001b[1;32m   1456\u001b[0m         ret = tf_session.TF_SessionRunCallable(self._session._session,\n\u001b[1;32m   1457\u001b[0m                                                \u001b[0mself\u001b[0m\u001b[0;34m.\u001b[0m\u001b[0m_handle\u001b[0m\u001b[0;34m,\u001b[0m \u001b[0margs\u001b[0m\u001b[0;34m,\u001b[0m\u001b[0;34m\u001b[0m\u001b[0;34m\u001b[0m\u001b[0m\n\u001b[0;32m-> 1458\u001b[0;31m                                                run_metadata_ptr)\n\u001b[0m\u001b[1;32m   1459\u001b[0m         \u001b[0;32mif\u001b[0m \u001b[0mrun_metadata\u001b[0m\u001b[0;34m:\u001b[0m\u001b[0;34m\u001b[0m\u001b[0;34m\u001b[0m\u001b[0m\n\u001b[1;32m   1460\u001b[0m           \u001b[0mproto_data\u001b[0m \u001b[0;34m=\u001b[0m \u001b[0mtf_session\u001b[0m\u001b[0;34m.\u001b[0m\u001b[0mTF_GetBuffer\u001b[0m\u001b[0;34m(\u001b[0m\u001b[0mrun_metadata_ptr\u001b[0m\u001b[0;34m)\u001b[0m\u001b[0;34m\u001b[0m\u001b[0;34m\u001b[0m\u001b[0m\n",
            "\u001b[0;31mKeyboardInterrupt\u001b[0m: "
          ]
        }
      ]
    },
    {
      "cell_type": "code",
      "metadata": {
        "id": "gQQGmmK1F_te",
        "colab_type": "code",
        "colab": {
          "base_uri": "https://localhost:8080/",
          "height": 50
        },
        "outputId": "70119110-cbd2-4487-d88c-5d3b607b3887"
      },
      "source": [
        "#if we load pretrained weights (hdf5 for keras)\n",
        "weights = 'all_cnn_weights_0.9088_0.4994.hdf5'\n",
        "#build model\n",
        "model1 = allcnn(weights)\n",
        "#optimizer\n",
        "sgd = SGD(lr = learning_rate, decay = weight_decay, momentum = momentum, nesterov= True)\n",
        "#compile model\n",
        "model1.compile(loss = 'categorical_crossentropy', optimizer = sgd, metrics = ['accuracy'])\n",
        "#evaluate model\n",
        "scores = model1.evaluate(X_test, Y_test, verbose = 1)\n",
        "print('accuracy = {}'.format(scores[1]))"
      ],
      "execution_count": 34,
      "outputs": [
        {
          "output_type": "stream",
          "text": [
            "10000/10000 [==============================] - 2s 193us/step\n",
            "accuracy = 0.9052\n"
          ],
          "name": "stdout"
        }
      ]
    },
    {
      "cell_type": "code",
      "metadata": {
        "id": "YxKO-yEwK7ZH",
        "colab_type": "code",
        "colab": {
          "base_uri": "https://localhost:8080/",
          "height": 33
        },
        "outputId": "b15adf52-6961-4088-ce37-b9c39ac4eb00"
      },
      "source": [
        "#make a dictionary of class labels and names\n",
        "classes = range(0, 10)\n",
        "names = ['airplane',\n",
        "    'automobile',\n",
        "    'bird',\n",
        "    'cat',\n",
        "    'deer',\n",
        "    'dog',\n",
        "    'frog',\n",
        "    'horse',\n",
        "    'ship',\n",
        "    'truck']\n",
        "class_labels = dict(zip(classes, names))\n",
        "print(class_labels)\n",
        "\n",
        "                    "
      ],
      "execution_count": 36,
      "outputs": [
        {
          "output_type": "stream",
          "text": [
            "{0: 'airplane', 1: 'automobile', 2: 'bird', 3: 'cat', 4: 'deer', 5: 'dog', 6: 'frog', 7: 'horse', 8: 'ship', 9: 'truck'}\n"
          ],
          "name": "stdout"
        }
      ]
    },
    {
      "cell_type": "code",
      "metadata": {
        "id": "wxM2zwZmNMX5",
        "colab_type": "code",
        "colab": {
          "base_uri": "https://localhost:8080/",
          "height": 50
        },
        "outputId": "be92b3d1-2584-4852-a079-bf2f9d6c96a7"
      },
      "source": [
        "batch = X_test[100:110]\n",
        "labels = np.argmax(Y_test[100:110], axis = -1)\n",
        "#predict\n",
        "predictions = model.predict(batch, verbose = 1 )\n",
        "print(predictions.shape)"
      ],
      "execution_count": 38,
      "outputs": [
        {
          "output_type": "stream",
          "text": [
            "\r10/10 [==============================] - 0s 533us/step\n",
            "(10, 10)\n"
          ],
          "name": "stdout"
        }
      ]
    },
    {
      "cell_type": "code",
      "metadata": {
        "id": "uO7RbRXXOnLB",
        "colab_type": "code",
        "colab": {
          "base_uri": "https://localhost:8080/",
          "height": 180
        },
        "outputId": "762ffcf9-462d-4ced-eef3-7061b19693ce"
      },
      "source": [
        "#let's make sure all probabilities for an image = 1\n",
        "for image in predictions:\n",
        "  print(np.sum(image, axis = -1))"
      ],
      "execution_count": 40,
      "outputs": [
        {
          "output_type": "stream",
          "text": [
            "1.0\n",
            "1.0\n",
            "1.0\n",
            "1.0\n",
            "1.0\n",
            "1.0\n",
            "1.0000001\n",
            "1.0\n",
            "1.0\n",
            "1.0\n"
          ],
          "name": "stdout"
        }
      ]
    },
    {
      "cell_type": "code",
      "metadata": {
        "id": "lvuizWSaPFxN",
        "colab_type": "code",
        "colab": {
          "base_uri": "https://localhost:8080/",
          "height": 33
        },
        "outputId": "3d5af399-5785-4965-cd86-74cf2a7aad19"
      },
      "source": [
        "#use np.argmax to deduce class labels from prob\n",
        "class_result = np.argmax(predictions, axis = -1)\n",
        "print(class_result)"
      ],
      "execution_count": 42,
      "outputs": [
        {
          "output_type": "stream",
          "text": [
            "[4 5 6 3 1 1 3 6 8 7]\n"
          ],
          "name": "stdout"
        }
      ]
    },
    {
      "cell_type": "code",
      "metadata": {
        "id": "RONSSr8GP5Fi",
        "colab_type": "code",
        "colab": {
          "base_uri": "https://localhost:8080/",
          "height": 606
        },
        "outputId": "38636823-00af-41f9-aaeb-938adc3835de"
      },
      "source": [
        "#grid of 3*3  iages\n",
        "fig, axis = plt.subplots(5, 2, figsize = (18, 10))\n",
        "fig.subplots_adjust(hspace = 1)\n",
        "axis = axis.flatten()\n",
        "\n",
        "for i, img in enumerate(batch):\n",
        "  for key, value in class_labels.items():\n",
        "    if class_result[i] == key:\n",
        "      title = 'Prediction: {} \\nActual: {}'.format(value, class_labels[labels[i]])\n",
        "      axis[i].set_title(title)\n",
        "      axis[i].axes.get_xaxis().set_visible(False)\n",
        "      axis[i].axes.get_yaxis().set_visible(False)\n",
        "  axis[i].imshow(img)\n",
        "      \n",
        "plt.show()"
      ],
      "execution_count": 60,
      "outputs": [
        {
          "output_type": "display_data",
          "data": {
            "image/png": "[encoded data removed]",
            "text/plain": [
              "<Figure size 1296x720 with 10 Axes>"
            ]
          },
          "metadata": {
            "tags": []
          }
        }
      ]
    }
  ]
}