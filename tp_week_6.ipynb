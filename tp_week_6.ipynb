{
  "nbformat": 4,
  "nbformat_minor": 0,
  "metadata": {
    "colab": {
      "name": "tp_week_6.ipynb",
      "version": "0.3.2",
      "provenance": [],
      "include_colab_link": true
    },
    "kernelspec": {
      "name": "python3",
      "display_name": "Python 3"
    }
  },
  "cells": [
    {
      "cell_type": "markdown",
      "metadata": {
        "id": "view-in-github",
        "colab_type": "text"
      },
      "source": [
        "<a href=\"https://colab.research.google.com/github/imazerty/1project/blob/master/tp_week_6.ipynb\" target=\"_parent\"><img src=\"https://colab.research.google.com/assets/colab-badge.svg\" alt=\"Open In Colab\"/></a>"
      ]
    },
    {
      "cell_type": "code",
      "metadata": {
        "id": "O37-TUd4kbTM",
        "colab_type": "code",
        "outputId": "91b47e3a-1d4b-45f7-9471-057c03dd1105",
        "colab": {
          "base_uri": "https://localhost:8080/",
          "height": 54
        }
      },
      "source": [
        "!git clone https://github.com/suraggupta/coursera-machine-learning-solutions-python.git"
      ],
      "execution_count": 18,
      "outputs": [
        {
          "output_type": "stream",
          "text": [
            "fatal: destination path 'coursera-machine-learning-solutions-python' already exists and is not an empty directory.\n"
          ],
          "name": "stdout"
        }
      ]
    },
    {
      "cell_type": "code",
      "metadata": {
        "id": "uTISEXeikE_j",
        "colab_type": "code",
        "colab": {}
      },
      "source": [
        "import numpy as np\n",
        "import matplotlib.pyplot as plt\n",
        "from scipy.io import loadmat\n",
        "import os\n",
        "import utils\n",
        "from scipy import optimize \n",
        "grader = utils.Grader()\n",
        "%matplotlib inline"
      ],
      "execution_count": 0,
      "outputs": []
    },
    {
      "cell_type": "code",
      "metadata": {
        "id": "cJA5JexAk-b9",
        "colab_type": "code",
        "outputId": "879bf038-01a0-4fe1-b785-67202b426b59",
        "colab": {
          "base_uri": "https://localhost:8080/",
          "height": 317
        }
      },
      "source": [
        "data = loadmat(os.path.join('coursera-machine-learning-solutions-python', 'Exercise5', 'Data', 'ex5data1.mat'))\n",
        "print(data.keys())\n",
        "# Extract train, test, validation data from dictionary\n",
        "# and also convert y's form 2-D matrix (MATLAB format) to a numpy vector\n",
        "X,y = data['X'],data['y'].ravel()\n",
        "Xtest,ytest = data['Xtest'],data['ytest'].ravel()\n",
        "Xval,yval = data['Xval'],data['yval'].ravel()\n",
        "#number of training \n",
        "m = y.size\n",
        "#plot training data\n",
        "plt.plot(X, y,'ro', ms=1, mec='r', mew='10')\n",
        "plt.xlabel('Change in water level (x)')\n",
        "plt.ylabel('Water flowing out of the dam (y)')"
      ],
      "execution_count": 20,
      "outputs": [
        {
          "output_type": "stream",
          "text": [
            "dict_keys(['__header__', '__version__', '__globals__', 'X', 'y', 'Xtest', 'ytest', 'Xval', 'yval'])\n"
          ],
          "name": "stdout"
        },
        {
          "output_type": "execute_result",
          "data": {
            "text/plain": [
              "Text(0, 0.5, 'Water flowing out of the dam (y)')"
            ]
          },
          "metadata": {
            "tags": []
          },
          "execution_count": 20
        },
        {
          "output_type": "display_data",
          "data": {
            "image/png": "[encoded data removed]",
            "text/plain": [
              "<Figure size 432x288 with 1 Axes>"
            ]
          },
          "metadata": {
            "tags": []
          }
        }
      ]
    },
    {
      "cell_type": "code",
      "metadata": {
        "id": "pHKB4L3vwBjr",
        "colab_type": "code",
        "colab": {}
      },
      "source": [
        "def linearRegCostFunction(X, y, Theta, lambda_=0.0):\n",
        "    \"\"\"\n",
        "    Compute cost and gradient for regularized linear regression \n",
        "    with multiple variables. Computes the cost of using theta as\n",
        "    the parameter for linear regression to fit the data points in X and y. \n",
        "    \n",
        "    Parameters\n",
        "    ----------\n",
        "    X : array_like\n",
        "        The dataset. Matrix with shape (m x n + 1) where m is the \n",
        "        total number of examples, and n is the number of features \n",
        "        before adding the bias term.\n",
        "    \n",
        "    y : array_like\n",
        "        The functions values at each datapoint. A vector of\n",
        "        shape (m, ).\n",
        "    \n",
        "    theta : array_like\n",
        "        The parameters for linear regression. A vector of shape (n+1,).\n",
        "    \n",
        "    lambda_ : float, optional\n",
        "        The regularization parameter.\n",
        "    \n",
        "    Returns\n",
        "    -------\n",
        "    J : float\n",
        "        The computed cost function. \n",
        "    \n",
        "    grad : array_like\n",
        "        The value of the cost function gradient w.r.t theta. \n",
        "        A vector of shape (n+1, ).\n",
        "    \n",
        "    Instructions\n",
        "    ------------\n",
        "    Compute the cost and gradient of regularized linear regression for\n",
        "    a particular choice of theta.\n",
        "    You should set J to the cost and grad to the gradient.\n",
        "    \"\"\"\n",
        "    # Initialize some useful values\n",
        "    m = y.size # number of training examples\n",
        "\n",
        "    # You need to return the following variables correctly \n",
        "    J = 0\n",
        "    grad = np.zeros(theta.shape)\n",
        "\n",
        "    # ====================== YOUR CODE HERE ======================\n",
        "    h = X.dot(Theta) \n",
        "    reg_elt = (lambda_/(2*m)) * np.sum(np.square(Theta[1:]))\n",
        "    J = (1/(2*m)) * np.sum(np.square(y - h)) + reg_elt\n",
        "    grad = (1/m)*(h - y).dot(X)\n",
        "    grad[1:] = grad[1:] + (lambda_/m)*Theta[1:]\n",
        "    # ============================================================\n",
        "    return J, grad"
      ],
      "execution_count": 0,
      "outputs": []
    },
    {
      "cell_type": "code",
      "metadata": {
        "id": "vUakG6VLM0i1",
        "colab_type": "code",
        "outputId": "2f1e0726-ce14-499b-904a-8c910397ea5d",
        "colab": {
          "base_uri": "https://localhost:8080/",
          "height": 34
        }
      },
      "source": [
        "print(X.shape)"
      ],
      "execution_count": 22,
      "outputs": [
        {
          "output_type": "stream",
          "text": [
            "(12, 1)\n"
          ],
          "name": "stdout"
        }
      ]
    },
    {
      "cell_type": "code",
      "metadata": {
        "id": "aZwDJcFf0ERX",
        "colab_type": "code",
        "outputId": "d30fcffe-b829-4d1f-fccc-7ccc546abb03",
        "colab": {
          "base_uri": "https://localhost:8080/",
          "height": 68
        }
      },
      "source": [
        "theta = np.array([1, 1])\n",
        "X_1 = np.concatenate([np.ones((m, 1)), X], axis=1)\n",
        "J, _ = linearRegCostFunction(X_1, y, theta, 1)\n",
        "\n",
        "print('Cost at theta = [1, 1]:\\t   %f ' % J)\n",
        "print('This value should be about 303.993192)\\n' % J)"
      ],
      "execution_count": 23,
      "outputs": [
        {
          "output_type": "stream",
          "text": [
            "Cost at theta = [1, 1]:\t   303.993192 \n",
            "This value should be about 303.993192)\n",
            "\n"
          ],
          "name": "stdout"
        }
      ]
    },
    {
      "cell_type": "code",
      "metadata": {
        "id": "jUeswKm_5mGZ",
        "colab_type": "code",
        "outputId": "cae8f2f7-0f6d-4e4c-9230-9ffb65349443",
        "colab": {
          "base_uri": "https://localhost:8080/",
          "height": 255
        }
      },
      "source": [
        "grader = utils.Grader()\n",
        "grader[1] = linearRegCostFunction\n",
        "grader.grade()"
      ],
      "execution_count": 24,
      "outputs": [
        {
          "output_type": "stream",
          "text": [
            "\n",
            "Submitting Solutions | Programming Exercise regularized-linear-regression-and-bias-variance\n",
            "\n",
            "Use token from last successful submission (imen.haddad@supcom.tn)? (Y/n): Y\n",
            "                                  Part Name |     Score | Feedback\n",
            "                                  --------- |     ----- | --------\n",
            "Regularized Linear Regression Cost Function |  25 /  25 | Nice work!\n",
            "     Regularized Linear Regression Gradient |   0 /  25 | \n",
            "                             Learning Curve |   0 /  20 | \n",
            "                 Polynomial Feature Mapping |   0 /  10 | \n",
            "                           Validation Curve |   0 /  20 | \n",
            "                                  --------------------------------\n",
            "                                            |  25 / 100 |  \n",
            "\n"
          ],
          "name": "stdout"
        }
      ]
    },
    {
      "cell_type": "code",
      "metadata": {
        "id": "D1kXPiLlRlF_",
        "colab_type": "code",
        "outputId": "b2fdc58c-00b1-43e0-9d40-3a22aea03a06",
        "colab": {
          "base_uri": "https://localhost:8080/",
          "height": 68
        }
      },
      "source": [
        "theta = np.array([1, 1])\n",
        "J, grad = linearRegCostFunction(np.concatenate([np.ones((m, 1)), X], axis=1), y, theta, 1)\n",
        "\n",
        "print('Gradient at theta = [1, 1]:  [{:.6f}, {:.6f}] '.format(*grad))\n",
        "print(' (this value should be about [-15.303016, 598.250744])\\n')"
      ],
      "execution_count": 25,
      "outputs": [
        {
          "output_type": "stream",
          "text": [
            "Gradient at theta = [1, 1]:  [-15.303016, 598.250744] \n",
            " (this value should be about [-15.303016, 598.250744])\n",
            "\n"
          ],
          "name": "stdout"
        }
      ]
    },
    {
      "cell_type": "code",
      "metadata": {
        "id": "8K7T43m6RwiM",
        "colab_type": "code",
        "outputId": "82d1ca36-0809-4def-84d3-0a11bf87fecf",
        "colab": {
          "base_uri": "https://localhost:8080/",
          "height": 255
        }
      },
      "source": [
        "grader[2] = linearRegCostFunction\n",
        "grader.grade()"
      ],
      "execution_count": 26,
      "outputs": [
        {
          "output_type": "stream",
          "text": [
            "\n",
            "Submitting Solutions | Programming Exercise regularized-linear-regression-and-bias-variance\n",
            "\n",
            "Use token from last successful submission (imen.haddad@supcom.tn)? (Y/n): Y\n",
            "                                  Part Name |     Score | Feedback\n",
            "                                  --------- |     ----- | --------\n",
            "Regularized Linear Regression Cost Function |  25 /  25 | Nice work!\n",
            "     Regularized Linear Regression Gradient |  25 /  25 | Nice work!\n",
            "                             Learning Curve |   0 /  20 | \n",
            "                 Polynomial Feature Mapping |   0 /  10 | \n",
            "                           Validation Curve |   0 /  20 | \n",
            "                                  --------------------------------\n",
            "                                            |  50 / 100 |  \n",
            "\n"
          ],
          "name": "stdout"
        }
      ]
    },
    {
      "cell_type": "code",
      "metadata": {
        "id": "y7c_ZedNidCv",
        "colab_type": "code",
        "colab": {}
      },
      "source": [
        "def learningCurve(X, y, Xval, yval, lambda_=0):\n",
        "    \"\"\"\n",
        "    Generates the train and cross validation set errors needed to plot a learning curve\n",
        "    returns the train and cross validation set errors for a learning curve. \n",
        "    \n",
        "    In this function, you will compute the train and test errors for\n",
        "    dataset sizes from 1 up to m. In practice, when working with larger\n",
        "    datasets, you might want to do this in larger intervals.\n",
        "    \n",
        "    Parameters\n",
        "    ----------\n",
        "    X : array_like\n",
        "        The training dataset. Matrix with shape (m x n + 1) where m is the \n",
        "        total number of examples, and n is the number of features \n",
        "        before adding the bias term.\n",
        "    \n",
        "    y : array_like\n",
        "        The functions values at each training datapoint. A vector of\n",
        "        shape (m, ).\n",
        "    \n",
        "    Xval : array_like\n",
        "        The validation dataset. Matrix with shape (m_val x n + 1) where m is the \n",
        "        total number of examples, and n is the number of features \n",
        "        before adding the bias term.\n",
        "    \n",
        "    yval : array_like\n",
        "        The functions values at each validation datapoint. A vector of\n",
        "        shape (m_val, ).\n",
        "    \n",
        "    lambda_ : float, optional\n",
        "        The regularization parameter.\n",
        "    \n",
        "    Returns\n",
        "    -------\n",
        "    error_train : array_like\n",
        "        A vector of shape m. error_train[i] contains the training error for\n",
        "        i examples.\n",
        "    error_val : array_like\n",
        "        A vecotr of shape m. error_val[i] contains the validation error for\n",
        "        i training examples.\n",
        "    \n",
        "    Instructions\n",
        "    ------------\n",
        "    Fill in this function to return training errors in error_train and the\n",
        "    cross validation errors in error_val. i.e., error_train[i] and \n",
        "    error_val[i] should give you the errors obtained after training on i examples.\n",
        "    \n",
        "    Notes\n",
        "    -----\n",
        "    - You should evaluate the training error on the first i training\n",
        "      examples (i.e., X[:i, :] and y[:i]).\n",
        "    \n",
        "      For the cross-validation error, you should instead evaluate on\n",
        "      the _entire_ cross validation set (Xval and yval).\n",
        "    \n",
        "    - If you are using your cost function (linearRegCostFunction) to compute\n",
        "      the training and cross validation error, you should call the function with\n",
        "      the lambda argument set to 0. Do note that you will still need to use\n",
        "      lambda when running the training to obtain the theta parameters.\n",
        "    \n",
        "    Hint\n",
        "    ----\n",
        "    You can loop over the examples with the following:\n",
        "     \n",
        "           for i in range(1, m+1):\n",
        "               # Compute train/cross validation errors using training examples \n",
        "               # X[:i, :] and y[:i], storing the result in \n",
        "               # error_train[i-1] and error_val[i-1]\n",
        "               ....  \n",
        "    \"\"\"\n",
        "    # Number of training examples\n",
        "    m = y.size\n",
        "\n",
        "    # You need to return these values correctly\n",
        "    error_train = np.zeros(m)\n",
        "    error_val   = np.zeros(m)\n",
        "\n",
        "    # ====================== YOUR CODE HERE ======================\n",
        "    \"\"\"\n",
        "    To plot the learning curve, we need a training and cross validation\n",
        "    set error for different training set sizes. To obtain different training\n",
        "    set sizes, you should use different subsets of the original training set X.\n",
        "    \"\"\"\n",
        "    for i in range(1, m + 1):\n",
        "        theta_t = utils.trainLinearReg (linearRegCostFunction, X[:i], y[:i], lambda_ = lambda_)\n",
        "        error_train[i - 1], _ = linearRegCostFunction(X[:i], y[:i], theta_t)\n",
        "        error_val[i - 1], _ = linearRegCostFunction(Xval, yval, theta_t)\n",
        "    # =============================================================\n",
        "    return error_train, error_val\n"
      ],
      "execution_count": 0,
      "outputs": []
    },
    {
      "cell_type": "code",
      "metadata": {
        "id": "CWw3zLJPXoFb",
        "colab_type": "code",
        "colab": {
          "base_uri": "https://localhost:8080/",
          "height": 312
        },
        "outputId": "76b4c975-2650-439a-c45f-ddf90a55473a"
      },
      "source": [
        "X_aug = np.concatenate((np.ones((m,1)), X), axis = 1)\n",
        "Xval_aug = np.concatenate((np.ones((Xval.shape[0],1)), Xval), axis = 1)\n",
        "error_train, error_val = learningCurve(X_aug, y, Xval_aug, yval, lambda_=0)\n",
        "\n",
        "plt.plot(np.arange(1, m+1), error_train, np.arange(1, m+1), error_val)\n",
        "plt.title('Learning curve for linear regression')\n",
        "plt.legend(['Train', 'Cross Validation'])\n",
        "plt.xlabel('Number of training examples')\n",
        "plt.ylabel('Error')\n",
        "plt.axis([0,13,0,300])"
      ],
      "execution_count": 31,
      "outputs": [
        {
          "output_type": "execute_result",
          "data": {
            "text/plain": [
              "[0, 13, 0, 300]"
            ]
          },
          "metadata": {
            "tags": []
          },
          "execution_count": 31
        },
        {
          "output_type": "display_data",
          "data": {
            "image/png": "[encoded data removed]",
            "text/plain": [
              "<Figure size 432x288 with 1 Axes>"
            ]
          },
          "metadata": {
            "tags": []
          }
        }
      ]
    },
    {
      "cell_type": "code",
      "metadata": {
        "id": "rB8M-dL2sgYz",
        "colab_type": "code",
        "colab": {
          "base_uri": "https://localhost:8080/",
          "height": 255
        },
        "outputId": "3656a508-4eba-4d19-ac7e-46ea0e952b35"
      },
      "source": [
        "grader[3] = learningCurve\n",
        "grader.grade()"
      ],
      "execution_count": 32,
      "outputs": [
        {
          "output_type": "stream",
          "text": [
            "\n",
            "Submitting Solutions | Programming Exercise regularized-linear-regression-and-bias-variance\n",
            "\n",
            "Use token from last successful submission (imen.haddad@supcom.tn)? (Y/n): Y\n",
            "                                  Part Name |     Score | Feedback\n",
            "                                  --------- |     ----- | --------\n",
            "Regularized Linear Regression Cost Function |  25 /  25 | Nice work!\n",
            "     Regularized Linear Regression Gradient |  25 /  25 | Nice work!\n",
            "                             Learning Curve |  20 /  20 | Nice work!\n",
            "                 Polynomial Feature Mapping |   0 /  10 | \n",
            "                           Validation Curve |   0 /  20 | \n",
            "                                  --------------------------------\n",
            "                                            |  70 / 100 |  \n",
            "\n"
          ],
          "name": "stdout"
        }
      ]
    },
    {
      "cell_type": "code",
      "metadata": {
        "id": "ju7WSWOYuS6m",
        "colab_type": "code",
        "colab": {}
      },
      "source": [
        "def polyFeatures(X, p):\n",
        "    \"\"\"\n",
        "    Maps X (1D vector) into the p-th power.\n",
        "    \n",
        "    Parameters\n",
        "    ----------\n",
        "    X : array_like\n",
        "        A data vector of size m, where m is the number of examples.\n",
        "    \n",
        "    p : int\n",
        "        The polynomial power to map the features. \n",
        "    \n",
        "    Returns \n",
        "    -------\n",
        "    X_poly : array_like\n",
        "        A matrix of shape (m x p) where p is the polynomial \n",
        "        power and m is the number of examples. That is:\n",
        "    \n",
        "        X_poly[i, :] = [X[i], X[i]**2, X[i]**3 ...  X[i]**p]\n",
        "    \n",
        "    Instructions\n",
        "    ------------\n",
        "    Given a vector X, return a matrix X_poly where the p-th column of\n",
        "    X contains the values of X to the p-th power.\n",
        "    \"\"\"\n",
        "    # You need to return the following variables correctly.\n",
        "    X_poly = np.zeros((X.shape[0], p))\n",
        "    for i in range(p):\n",
        "      X_poly[:,i] = X[:,0] ** (i+1)\n",
        "      \n",
        "    return X_poly"
      ],
      "execution_count": 0,
      "outputs": []
    },
    {
      "cell_type": "code",
      "metadata": {
        "id": "25HeYkDZu-5t",
        "colab_type": "code",
        "colab": {
          "base_uri": "https://localhost:8080/",
          "height": 68
        },
        "outputId": "11eff4cf-6cb6-48d0-a018-e28c6dd2f9cc"
      },
      "source": [
        "p = 8\n",
        "\n",
        "# Map X onto Polynomial Features and Normalize\n",
        "X_poly = polyFeatures(X, p)\n",
        "X_poly, mu, sigma = utils.featureNormalize(X_poly)\n",
        "X_poly = np.concatenate([np.ones((m, 1)), X_poly], axis=1)\n",
        "\n",
        "# Map X_poly_test and normalize (using mu and sigma)\n",
        "X_poly_test = polyFeatures(Xtest, p)\n",
        "X_poly_test -= mu\n",
        "X_poly_test /= sigma\n",
        "X_poly_test = np.concatenate([np.ones((ytest.size, 1)), X_poly_test], axis=1)\n",
        "\n",
        "# Map X_poly_val and normalize (using mu and sigma)\n",
        "X_poly_val = polyFeatures(Xval, p)\n",
        "X_poly_val -= mu\n",
        "X_poly_val /= sigma\n",
        "X_poly_val = np.concatenate([np.ones((yval.size, 1)), X_poly_val], axis=1)\n",
        "\n",
        "print('Normalized Training Example 1:')\n",
        "X_poly[0, :]"
      ],
      "execution_count": 43,
      "outputs": [
        {
          "output_type": "stream",
          "text": [
            "Normalized Training Example 1:\n"
          ],
          "name": "stdout"
        },
        {
          "output_type": "execute_result",
          "data": {
            "text/plain": [
              "array([ 1.        , -0.36214078, -0.75508669,  0.18222588, -0.70618991,\n",
              "        0.30661792, -0.59087767,  0.3445158 , -0.50848117])"
            ]
          },
          "metadata": {
            "tags": []
          },
          "execution_count": 43
        }
      ]
    },
    {
      "cell_type": "code",
      "metadata": {
        "id": "-g3GOq7Gv24g",
        "colab_type": "code",
        "colab": {
          "base_uri": "https://localhost:8080/",
          "height": 255
        },
        "outputId": "680f0347-e3b7-400a-cbce-be091d745719"
      },
      "source": [
        "grader[4] = polyFeatures\n",
        "grader.grade()"
      ],
      "execution_count": 35,
      "outputs": [
        {
          "output_type": "stream",
          "text": [
            "\n",
            "Submitting Solutions | Programming Exercise regularized-linear-regression-and-bias-variance\n",
            "\n",
            "Use token from last successful submission (imen.haddad@supcom.tn)? (Y/n): Y\n",
            "                                  Part Name |     Score | Feedback\n",
            "                                  --------- |     ----- | --------\n",
            "Regularized Linear Regression Cost Function |  25 /  25 | Nice work!\n",
            "     Regularized Linear Regression Gradient |  25 /  25 | Nice work!\n",
            "                             Learning Curve |  20 /  20 | Nice work!\n",
            "                 Polynomial Feature Mapping |  10 /  10 | Nice work!\n",
            "                           Validation Curve |   0 /  20 | \n",
            "                                  --------------------------------\n",
            "                                            |  80 / 100 |  \n",
            "\n"
          ],
          "name": "stdout"
        }
      ]
    },
    {
      "cell_type": "code",
      "metadata": {
        "id": "mKwXZTKYv7kx",
        "colab_type": "code",
        "colab": {
          "base_uri": "https://localhost:8080/",
          "height": 828
        },
        "outputId": "7900e83e-3b9a-4435-955b-4f08ba7a5a68"
      },
      "source": [
        "lambda_ = 100\n",
        "theta = utils.trainLinearReg(linearRegCostFunction, X_poly, y,\n",
        "                             lambda_=lambda_, maxiter=55)\n",
        "# Plot training data and fit\n",
        "plt.plot(X, y, 'ro', ms=10, mew=1.5, mec='k')\n",
        "utils.plotFit(polyFeatures, np.min(X), np.max(X), mu, sigma, theta, p)\n",
        "\n",
        "plt.xlabel('Change in water level (x)')\n",
        "plt.ylabel('Water flowing out of the dam (y)')\n",
        "plt.title('Polynomial Regression Fit (lambda = %f)' % lambda_)\n",
        "plt.ylim([-20, 50])\n",
        "plt.figure()\n",
        "error_train, error_val = learningCurve(X_poly, y, X_poly_val, yval, lambda_)\n",
        "plt.plot(np.arange(1, 1+m), error_train, np.arange(1, 1+m), error_val)\n",
        "\n",
        "plt.title('Polynomial Regression Learning Curve (lambda = %f)' % lambda_)\n",
        "plt.xlabel('Number of training examples')\n",
        "plt.ylabel('Error')\n",
        "plt.axis([0, 13, 0, 100])\n",
        "plt.legend(['Train', 'Cross Validation'])\n",
        "\n",
        "print('Polynomial Regression (lambda = %f)\\n' % lambda_)\n",
        "print('# Training Examples\\tTrain Error\\tCross Validation Error')\n",
        "for i in range(m):\n",
        "    print('  \\t%d\\t\\t%f\\t%f' % (i+1, error_train[i], error_val[i]))"
      ],
      "execution_count": 46,
      "outputs": [
        {
          "output_type": "stream",
          "text": [
            "Polynomial Regression (lambda = 100.000000)\n",
            "\n",
            "# Training Examples\tTrain Error\tCross Validation Error\n",
            "  \t1\t\t0.000000\t138.846777\n",
            "  \t2\t\t0.114107\t144.125230\n",
            "  \t3\t\t106.956580\t70.863286\n",
            "  \t4\t\t121.740879\t78.372963\n",
            "  \t5\t\t102.949459\t63.845046\n",
            "  \t6\t\t97.169857\t59.532632\n",
            "  \t7\t\t83.326539\t59.585493\n",
            "  \t8\t\t76.491825\t58.699842\n",
            "  \t9\t\t71.297176\t59.564455\n",
            "  \t10\t\t64.350636\t59.731344\n",
            "  \t11\t\t58.997943\t60.409869\n",
            "  \t12\t\t57.977080\t57.842195\n"
          ],
          "name": "stdout"
        },
        {
          "output_type": "display_data",
          "data": {
            "image/png": "[encoded data removed]",
            "text/plain": [
              "<Figure size 432x288 with 1 Axes>"
            ]
          },
          "metadata": {
            "tags": []
          }
        },
        {
          "output_type": "display_data",
          "data": {
            "image/png": "[encoded data removed]",
            "text/plain": [
              "<Figure size 432x288 with 1 Axes>"
            ]
          },
          "metadata": {
            "tags": []
          }
        }
      ]
    },
    {
      "cell_type": "code",
      "metadata": {
        "id": "lGRrlCsozIb9",
        "colab_type": "code",
        "colab": {}
      },
      "source": [
        "def validationCurve(X, y, Xval, yval):\n",
        "    \"\"\"\n",
        "    Generate the train and validation errors needed to plot a validation\n",
        "    curve that we can use to select lambda_.\n",
        "    \n",
        "    Parameters\n",
        "    ----------\n",
        "    X : array_like\n",
        "        The training dataset. Matrix with shape (m x n) where m is the \n",
        "        total number of training examples, and n is the number of features \n",
        "        including any polynomial features.\n",
        "    \n",
        "    y : array_like\n",
        "        The functions values at each training datapoint. A vector of\n",
        "        shape (m, ).\n",
        "    \n",
        "    Xval : array_like\n",
        "        The validation dataset. Matrix with shape (m_val x n) where m is the \n",
        "        total number of validation examples, and n is the number of features \n",
        "        including any polynomial features.\n",
        "    \n",
        "    yval : array_like\n",
        "        The functions values at each validation datapoint. A vector of\n",
        "        shape (m_val, ).\n",
        "    \n",
        "    Returns\n",
        "    -------\n",
        "    lambda_vec : list\n",
        "        The values of the regularization parameters which were used in \n",
        "        cross validation.\n",
        "    \n",
        "    error_train : list\n",
        "        The training error computed at each value for the regularization\n",
        "        parameter.\n",
        "    \n",
        "    error_val : list\n",
        "        The validation error computed at each value for the regularization\n",
        "        parameter.\n",
        "    \n",
        "    Instructions\n",
        "    ------------\n",
        "    Fill in this function to return training errors in `error_train` and\n",
        "    the validation errors in `error_val`. The vector `lambda_vec` contains\n",
        "    the different lambda parameters to use for each calculation of the\n",
        "    errors, i.e, `error_train[i]`, and `error_val[i]` should give you the\n",
        "    errors obtained after training with `lambda_ = lambda_vec[i]`.\n",
        "\n",
        "    Note\n",
        "    ----\n",
        "    You can loop over lambda_vec with the following:\n",
        "    \n",
        "          for i in range(len(lambda_vec))\n",
        "              lambda = lambda_vec[i]\n",
        "              # Compute train / val errors when training linear \n",
        "              # regression with regularization parameter lambda_\n",
        "              # You should store the result in error_train[i]\n",
        "              # and error_val[i]\n",
        "              ....\n",
        "    \"\"\"\n",
        "    # Selected values of lambda (you should not change this)\n",
        "    lambda_vec = [0, 0.001, 0.003, 0.01, 0.03, 0.1, 0.3, 1, 3, 10]\n",
        "\n",
        "    # You need to return these variables correctly.\n",
        "    error_train = np.zeros(len(lambda_vec))\n",
        "    error_val = np.zeros(len(lambda_vec))\n",
        "\n",
        "    # ====================== YOUR CODE HERE ======================\n",
        "\n",
        "    for i in range(len(lambda_vec)):\n",
        "        lambda_try = lambda_vec[i]\n",
        "        theta_t = utils.trainLinearReg(linearRegCostFunction, X, y, lambda_ = lambda_try)\n",
        "        error_train[i], _ = linearRegCostFunction(X, y, theta_t, lambda_ = 0)\n",
        "        error_val[i], _ = linearRegCostFunction(Xval, yval, theta_t, lambda_ = 0)\n",
        "\n",
        "    # ============================================================\n",
        "    return lambda_vec, error_train, error_val"
      ],
      "execution_count": 0,
      "outputs": []
    },
    {
      "cell_type": "code",
      "metadata": {
        "id": "D_zWyhq21k82",
        "colab_type": "code",
        "colab": {
          "base_uri": "https://localhost:8080/",
          "height": 470
        },
        "outputId": "2c8932d8-24ba-4070-c422-00da67dbe419"
      },
      "source": [
        "lambda_vec, error_train, error_val = validationCurve(X_poly, y, X_poly_val, yval)\n",
        "\n",
        "plt.plot(lambda_vec, error_train, '-o', lambda_vec, error_val, '-o', lw=2)\n",
        "plt.legend(['Train', 'Cross Validation'])\n",
        "plt.xlabel('lambda')\n",
        "plt.ylabel('Error')\n",
        "\n",
        "print('lambda\\t\\tTrain Error\\tValidation Error')\n",
        "for i in range(len(lambda_vec)):\n",
        "    print(' %f\\t%f\\t%f' % (lambda_vec[i], error_train[i], error_val[i]))"
      ],
      "execution_count": 49,
      "outputs": [
        {
          "output_type": "stream",
          "text": [
            "lambda\t\tTrain Error\tValidation Error\n",
            " 0.000000\t0.030051\t39.119110\n",
            " 0.001000\t0.112746\t9.844089\n",
            " 0.003000\t0.171042\t16.277694\n",
            " 0.010000\t0.221477\t16.912548\n",
            " 0.030000\t0.281828\t12.829495\n",
            " 0.100000\t0.459328\t7.586642\n",
            " 0.300000\t0.921761\t4.636820\n",
            " 1.000000\t2.076199\t4.260602\n",
            " 3.000000\t4.901372\t3.822929\n",
            " 10.000000\t16.092273\t9.945554\n"
          ],
          "name": "stdout"
        },
        {
          "output_type": "display_data",
          "data": {
            "image/png": "[encoded data removed]",
            "text/plain": [
              "<Figure size 432x288 with 1 Axes>"
            ]
          },
          "metadata": {
            "tags": []
          }
        }
      ]
    },
    {
      "cell_type": "code",
      "metadata": {
        "id": "c9-IWLCI1wFQ",
        "colab_type": "code",
        "colab": {
          "base_uri": "https://localhost:8080/",
          "height": 255
        },
        "outputId": "3a4b372f-0202-4123-d12f-6af5c80cc9cf"
      },
      "source": [
        "grader[5] = validationCurve\n",
        "grader.grade()"
      ],
      "execution_count": 50,
      "outputs": [
        {
          "output_type": "stream",
          "text": [
            "\n",
            "Submitting Solutions | Programming Exercise regularized-linear-regression-and-bias-variance\n",
            "\n",
            "Use token from last successful submission (imen.haddad@supcom.tn)? (Y/n): Y\n",
            "                                  Part Name |     Score | Feedback\n",
            "                                  --------- |     ----- | --------\n",
            "Regularized Linear Regression Cost Function |  25 /  25 | Nice work!\n",
            "     Regularized Linear Regression Gradient |  25 /  25 | Nice work!\n",
            "                             Learning Curve |  20 /  20 | Nice work!\n",
            "                 Polynomial Feature Mapping |  10 /  10 | Nice work!\n",
            "                           Validation Curve |  20 /  20 | Nice work!\n",
            "                                  --------------------------------\n",
            "                                            | 100 / 100 |  \n",
            "\n"
          ],
          "name": "stdout"
        }
      ]
    }
  ]
}