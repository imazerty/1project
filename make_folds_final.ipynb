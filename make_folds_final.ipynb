{
  "nbformat": 4,
  "nbformat_minor": 0,
  "metadata": {
    "colab": {
      "name": "make_folds_final",
      "provenance": [],
      "include_colab_link": true
    },
    "kernelspec": {
      "name": "python3",
      "display_name": "Python 3"
    }
  },
  "cells": [
    {
      "cell_type": "markdown",
      "metadata": {
        "id": "view-in-github",
        "colab_type": "text"
      },
      "source": [
        "<a href=\"https://colab.research.google.com/github/imazerty/1project/blob/master/make_folds_final.ipynb\" target=\"_parent\"><img src=\"https://colab.research.google.com/assets/colab-badge.svg\" alt=\"Open In Colab\"/></a>"
      ]
    },
    {
      "cell_type": "markdown",
      "metadata": {
        "id": "GHWUap7NUuou",
        "colab_type": "text"
      },
      "source": [
        ""
      ]
    },
    {
      "cell_type": "code",
      "metadata": {
        "id": "U1tPTQGpFGVu",
        "colab_type": "code",
        "outputId": "c35604ea-c36c-43f4-d4cd-23667ff43c7a",
        "colab": {
          "base_uri": "https://localhost:8080/",
          "height": 173
        }
      },
      "source": [
        "!pip install iterative-stratification"
      ],
      "execution_count": 0,
      "outputs": [
        {
          "output_type": "stream",
          "text": [
            "Collecting iterative-stratification\n",
            "  Downloading https://files.pythonhosted.org/packages/9d/79/9ba64c8c07b07b8b45d80725b2ebd7b7884701c1da34f70d4749f7b45f9a/iterative_stratification-0.1.6-py3-none-any.whl\n",
            "Requirement already satisfied: scikit-learn in /usr/local/lib/python3.6/dist-packages (from iterative-stratification) (0.21.3)\n",
            "Requirement already satisfied: numpy in /usr/local/lib/python3.6/dist-packages (from iterative-stratification) (1.17.4)\n",
            "Requirement already satisfied: scipy in /usr/local/lib/python3.6/dist-packages (from iterative-stratification) (1.3.3)\n",
            "Requirement already satisfied: joblib>=0.11 in /usr/local/lib/python3.6/dist-packages (from scikit-learn->iterative-stratification) (0.14.1)\n",
            "Installing collected packages: iterative-stratification\n",
            "Successfully installed iterative-stratification-0.1.6\n"
          ],
          "name": "stdout"
        }
      ]
    },
    {
      "cell_type": "code",
      "metadata": {
        "id": "zY5bu9rszPSE",
        "colab_type": "code",
        "outputId": "d9b68ef6-3fab-4a46-e3e9-f5ca966c1739",
        "colab": {
          "base_uri": "https://localhost:8080/",
          "height": 275
        }
      },
      "source": [
        "import pandas as pd\n",
        "import matplotlib.pyplot as plt\n",
        "import seaborn\n",
        "import copy\n",
        "import numpy as np\n",
        "import argparse\n",
        "from sklearn.preprocessing import MultiLabelBinarizer\n",
        "from iterstrat.ml_stratifiers import MultilabelStratifiedKFold\n",
        "import os\n",
        "import pickle\n",
        "from pathlib import Path\n",
        "CACHE_DIR = Path('/content/cache/data/')\n",
        "CACHE_DIR.mkdir(parents=True ,exist_ok=True)\n",
        "\n",
        "def load_drop_unused_excel():\n",
        "  df = pd.read_excel(\"/content/df_j_i.xlsx\")\n",
        "  df1 = df.loc[df.UNUSED != 'x']\n",
        "  print(\"{} samples were dropped ...\".format(df.LABELS.size - df1.LABELS.size))\n",
        "  print(\"{} samples were retained ...\".format(df1.LABELS.size))\n",
        "  return df1\n",
        "\n",
        "def expand_labels():\n",
        "  \"\"\"\n",
        "  ONE HOT ENCODE\n",
        "  \"\"\"\n",
        "  print(\"expanding labels ...\")\n",
        "  #load train csv\n",
        "  df = pd.read_excel(\"/content/df_j_i.xlsx\")\n",
        "  #drop unused rows\n",
        "  df = df[df.UNUSED != 'x'].iloc[:,:3]\n",
        "  print(df.isnull().any())\n",
        "  #deleting consecutive spaces\n",
        "  df.LABELS = df.LABELS.str.strip()\n",
        "  print(df.LABELS.isnull().index)\n",
        "  #defune all possible labels\n",
        "  tags = pd.read_excel('/content/multi_labels (1) (1).xlsx')\n",
        "  unique_tags = tags.Name.unique()\n",
        "  #one_hot_encode\n",
        "  mlb = MultiLabelBinarizer(classes=unique_tags)\n",
        "  labels = pd.DataFrame(mlb.fit_transform(df['LABELS']),columns=mlb.classes_)\n",
        "  labels.insert(0, 'ID', df.ID.values)\n",
        "  labels.insert(1, 'URL', df.URL.values)\n",
        "  return labels\n",
        "\n",
        "\n",
        "\n",
        "def make_folds(n_folds: int, min_occurrence = 30) -> pd.DataFrame:\n",
        "  df = expand_labels()\n",
        "  skf = MultilabelStratifiedKFold(n_splits=n_folds, random_state=42,shuffle=True)\n",
        "  print(\"Creating folds ...\")\n",
        "  #labels occurring > min_occurrence\n",
        "  labels_to_use = (np.sum(df.iloc[:,2:].values, axis = 0)> min_occurrence)\n",
        "  #rows with no such labels\n",
        "  empty_rows = (np.sum(df.iloc[:,2:].values[:,labels_to_use], axis=1) == 0)\n",
        "  print('empty rows: ', sum(empty_rows))\n",
        "  #print(\"Eligible labels: {} \\ {} \".format(df[labels_to_use].columns, sum(labels_to_use)))\n",
        "  #keep the relevant rows\n",
        "  df = df[~empty_rows]\n",
        "  #initialize folds\n",
        "  folds = np.array([-1] * len(df))\n",
        "  #generating number of fold for each row\n",
        "  for fold, (_,valid_idx) in enumerate(skf.split(df.ID, df.iloc[:, 2:].values[:, labels_to_use])):\n",
        "    folds[valid_idx] = fold\n",
        "  #creating new column in df \n",
        "  df['fold'] = folds\n",
        "  return df\n",
        "\n",
        "def main():\n",
        "  parser = argparse.ArgumentParser()\n",
        "  parser.add_argument('--n_folds', type=int, default=5)\n",
        "  args = parser.parse_args(['--n_folds', '5'])\n",
        "  df = make_folds(n_folds=args.n_folds)\n",
        "  df.to_pickle(os.path.join(CACHE_DIR,'folds.pkl'))\n",
        "\n",
        "if __name__ == '__main__':\n",
        "  main()"
      ],
      "execution_count": 0,
      "outputs": [
        {
          "output_type": "stream",
          "text": [
            "expanding labels ...\n",
            "ID        False\n",
            "URL        True\n",
            "LABELS     True\n",
            "UNUSED     True\n",
            "dtype: bool\n",
            "Int64Index([   0,    1,    2,    3,    4,    5,    6,    7,    8,    9,\n",
            "            ...\n",
            "            6328, 6329, 6330, 6331, 6334, 6344, 6345, 6349, 6350, 6351],\n",
            "           dtype='int64', length=5735)\n",
            "Creating folds ...\n",
            "empty rows:  2\n"
          ],
          "name": "stdout"
        },
        {
          "output_type": "stream",
          "text": [
            "/usr/local/lib/python3.6/dist-packages/sklearn/preprocessing/label.py:951: UserWarning: unknown class(es) [' ', '1', '2'] will be ignored\n",
            "  .format(sorted(unknown, key=str)))\n"
          ],
          "name": "stderr"
        }
      ]
    },
    {
      "cell_type": "code",
      "metadata": {
        "id": "UitgrufwIUky",
        "colab_type": "code",
        "outputId": "058ab280-ac6d-42e7-9613-2c0243313b88",
        "colab": {
          "base_uri": "https://localhost:8080/",
          "height": 162
        }
      },
      "source": [
        "folds = pd.read_pickle(CACHE_DIR / 'folds.pkl')\n",
        "\n",
        "folds.head(3)"
      ],
      "execution_count": 0,
      "outputs": [
        {
          "output_type": "execute_result",
          "data": {
            "text/html": [
              "<div>\n",
              "<style scoped>\n",
              "    .dataframe tbody tr th:only-of-type {\n",
              "        vertical-align: middle;\n",
              "    }\n",
              "\n",
              "    .dataframe tbody tr th {\n",
              "        vertical-align: top;\n",
              "    }\n",
              "\n",
              "    .dataframe thead th {\n",
              "        text-align: right;\n",
              "    }\n",
              "</style>\n",
              "<table border=\"1\" class=\"dataframe\">\n",
              "  <thead>\n",
              "    <tr style=\"text-align: right;\">\n",
              "      <th></th>\n",
              "      <th>ID</th>\n",
              "      <th>URL</th>\n",
              "      <th>A</th>\n",
              "      <th>B</th>\n",
              "      <th>C</th>\n",
              "      <th>D</th>\n",
              "      <th>E</th>\n",
              "      <th>F</th>\n",
              "      <th>G</th>\n",
              "      <th>H</th>\n",
              "      <th>H1</th>\n",
              "      <th>H2</th>\n",
              "      <th>I</th>\n",
              "      <th>J</th>\n",
              "      <th>K</th>\n",
              "      <th>L</th>\n",
              "      <th>M</th>\n",
              "      <th>N</th>\n",
              "      <th>O</th>\n",
              "      <th>P</th>\n",
              "      <th>Q</th>\n",
              "      <th>R</th>\n",
              "      <th>S</th>\n",
              "      <th>T</th>\n",
              "      <th>U</th>\n",
              "      <th>V</th>\n",
              "      <th>fold</th>\n",
              "    </tr>\n",
              "  </thead>\n",
              "  <tbody>\n",
              "    <tr>\n",
              "      <th>0</th>\n",
              "      <td>media_juldebar_Deep_Mapping_4To_data_deep_mapp...</td>\n",
              "      <td>http://162.38.140.205/tmp/Deep_mapping/session...</td>\n",
              "      <td>0</td>\n",
              "      <td>0</td>\n",
              "      <td>0</td>\n",
              "      <td>0</td>\n",
              "      <td>0</td>\n",
              "      <td>0</td>\n",
              "      <td>0</td>\n",
              "      <td>0</td>\n",
              "      <td>0</td>\n",
              "      <td>0</td>\n",
              "      <td>1</td>\n",
              "      <td>0</td>\n",
              "      <td>0</td>\n",
              "      <td>0</td>\n",
              "      <td>0</td>\n",
              "      <td>0</td>\n",
              "      <td>0</td>\n",
              "      <td>0</td>\n",
              "      <td>0</td>\n",
              "      <td>1</td>\n",
              "      <td>0</td>\n",
              "      <td>0</td>\n",
              "      <td>0</td>\n",
              "      <td>0</td>\n",
              "      <td>2</td>\n",
              "    </tr>\n",
              "    <tr>\n",
              "      <th>1</th>\n",
              "      <td>media_juldebar_Deep_Mapping_4To_data_deep_mapp...</td>\n",
              "      <td>http://162.38.140.205/tmp/Deep_mapping/session...</td>\n",
              "      <td>0</td>\n",
              "      <td>1</td>\n",
              "      <td>0</td>\n",
              "      <td>0</td>\n",
              "      <td>0</td>\n",
              "      <td>0</td>\n",
              "      <td>0</td>\n",
              "      <td>0</td>\n",
              "      <td>0</td>\n",
              "      <td>0</td>\n",
              "      <td>0</td>\n",
              "      <td>0</td>\n",
              "      <td>0</td>\n",
              "      <td>0</td>\n",
              "      <td>0</td>\n",
              "      <td>0</td>\n",
              "      <td>0</td>\n",
              "      <td>0</td>\n",
              "      <td>0</td>\n",
              "      <td>0</td>\n",
              "      <td>0</td>\n",
              "      <td>0</td>\n",
              "      <td>0</td>\n",
              "      <td>0</td>\n",
              "      <td>0</td>\n",
              "    </tr>\n",
              "    <tr>\n",
              "      <th>2</th>\n",
              "      <td>media_juldebar_Deep_Mapping_4To_data_deep_mapp...</td>\n",
              "      <td>http://162.38.140.205/tmp/Deep_mapping/session...</td>\n",
              "      <td>0</td>\n",
              "      <td>1</td>\n",
              "      <td>0</td>\n",
              "      <td>1</td>\n",
              "      <td>0</td>\n",
              "      <td>0</td>\n",
              "      <td>0</td>\n",
              "      <td>0</td>\n",
              "      <td>0</td>\n",
              "      <td>0</td>\n",
              "      <td>1</td>\n",
              "      <td>0</td>\n",
              "      <td>0</td>\n",
              "      <td>0</td>\n",
              "      <td>0</td>\n",
              "      <td>0</td>\n",
              "      <td>0</td>\n",
              "      <td>0</td>\n",
              "      <td>0</td>\n",
              "      <td>0</td>\n",
              "      <td>0</td>\n",
              "      <td>0</td>\n",
              "      <td>0</td>\n",
              "      <td>0</td>\n",
              "      <td>2</td>\n",
              "    </tr>\n",
              "  </tbody>\n",
              "</table>\n",
              "</div>"
            ],
            "text/plain": [
              "                                                  ID  ... fold\n",
              "0  media_juldebar_Deep_Mapping_4To_data_deep_mapp...  ...    2\n",
              "1  media_juldebar_Deep_Mapping_4To_data_deep_mapp...  ...    0\n",
              "2  media_juldebar_Deep_Mapping_4To_data_deep_mapp...  ...    2\n",
              "\n",
              "[3 rows x 27 columns]"
            ]
          },
          "metadata": {
            "tags": []
          },
          "execution_count": 19
        }
      ]
    },
    {
      "cell_type": "code",
      "metadata": {
        "id": "DoebvZuyPD0H",
        "colab_type": "code",
        "outputId": "4014a6a7-5349-4a96-fe9e-4d228a55c223",
        "colab": {
          "base_uri": "https://localhost:8080/",
          "height": 136
        }
      },
      "source": [
        "  df = pd.read_excel(\"/content/df_j_i.xlsx\")\n",
        "  \n",
        "  #drop unused rows\n",
        "  df = df[df.UNUSED != 'x'].iloc[:,:3]\n",
        "  print(df.isnull().any())\n",
        "  #deleting consecutive spaces\n",
        "  df.LABELS = df.LABELS.str.strip()\n",
        "  print(df[df.LABELS.isnull().values])"
      ],
      "execution_count": 0,
      "outputs": [
        {
          "output_type": "stream",
          "text": [
            "ID        False\n",
            "URL        True\n",
            "LABELS    False\n",
            "dtype: bool\n",
            "Empty DataFrame\n",
            "Columns: [ID, URL, LABELS]\n",
            "Index: []\n"
          ],
          "name": "stdout"
        }
      ]
    },
    {
      "cell_type": "code",
      "metadata": {
        "id": "a7z6XIu1PQjL",
        "colab_type": "code",
        "colab": {}
      },
      "source": [
        ""
      ],
      "execution_count": 0,
      "outputs": []
    }
  ]
}